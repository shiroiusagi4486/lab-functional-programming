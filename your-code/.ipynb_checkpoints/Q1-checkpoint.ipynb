{
 "cells": [
  {
   "cell_type": "markdown",
   "metadata": {},
   "source": [
    "In the cell below, create a Python function that wraps your previous solution for the Bag of Words lab.\n",
    "\n",
    "Requirements:\n",
    "\n",
    "1. Your function should accept the following parameters:\n",
    "    * `docs` [REQUIRED] - array of document paths.\n",
    "    * `stop_words` [OPTIONAL] - array of stop words. The default value is an empty array.\n",
    "\n",
    "1. Your function should return a Python object that contains the following:\n",
    "    * `bag_of_words` - array of strings of normalized unique words in the corpus.\n",
    "    * `term_freq` - array of the term-frequency vectors."
   ]
  },
  {
   "cell_type": "code",
   "execution_count": 18,
   "metadata": {},
   "outputs": [],
   "source": [
    "# Import required libraries\n",
    "# Define function\n",
    "def get_bow_from_docs(docs, stop_words=[]):\n",
    "    # In the function, first define the variables you will use such as `corpus`, `bag_of_words`, and `term_freq`.\n",
    "    corpus = []\n",
    "    bag_of_words = []\n",
    "    term_freq = []\n",
    "    \n",
    "    \"\"\"\n",
    "    Loop `docs` and read the content of each doc into a string in `corpus`.\n",
    "    Remember to convert the doc content to lowercases and remove punctuation.\n",
    "    \"\"\"\n",
    "    for elemento in docs:\n",
    "        documento =open(elemento, \"r\")\n",
    "        for linea in documento.readlines(): \n",
    "            corpus.append(linea.replace('.', '').lower())\n",
    "    \n",
    "    \n",
    "    \n",
    "    \"\"\"\n",
    "    Loop `corpus`. Append the terms in each doc into the `bag_of_words` array. The terms in `bag_of_words` \n",
    "    should be unique which means before adding each term you need to check if it's already added to the array.\n",
    "    In addition, check if each term is in the `stop_words` array. Only append the term to `bag_of_words`\n",
    "    if it is not a stop word.\n",
    "    \"\"\"\n",
    "    for linea in corpus:\n",
    "        palabras = linea.split()\n",
    "        for palabra in palabras:\n",
    "            if palabra not in bag_of_words and palabra not in stop_words:\n",
    "                bag_of_words.append(palabra)\n",
    "    \n",
    "    \n",
    "    \n",
    "    \"\"\"\n",
    "    Loop `corpus` again. For each doc string, count the number of occurrences of each term in `bag_of_words`. \n",
    "    Create an array for each doc's term frequency and append it to `term_freq`.\n",
    "    \"\"\"\n",
    "    for linea in corpus:\n",
    "        term_frequency=[]\n",
    "        separado = linea.split()\n",
    "        for word in bag_of_words:\n",
    "            if word in separado:\n",
    "                term_frequency.append(1)\n",
    "            else:\n",
    "                term_frequency.append(0)\n",
    "        term_freq.append(term_frequency)\n",
    "    \n",
    "    \n",
    "    # Now return your output as an object\n",
    "    return {\n",
    "        \"bag_of_words\": bag_of_words,\n",
    "        \"term_freq\": term_freq\n",
    "    }"
   ]
  },
  {
   "cell_type": "markdown",
   "metadata": {},
   "source": [
    "Test your function without stop words. You should see the output like below:\n",
    "\n",
    "```{'bag_of_words': ['ironhack', 'is', 'cool', 'i', 'love', 'am', 'a', 'student', 'at'], 'term_freq': [[1, 1, 1, 0, 0, 0, 0, 0, 0], [1, 0, 0, 1, 1, 0, 0, 0, 0], [1, 0, 0, 1, 0, 1, 1, 1, 1]]}```"
   ]
  },
  {
   "cell_type": "code",
   "execution_count": 19,
   "metadata": {},
   "outputs": [
    {
     "name": "stdout",
     "output_type": "stream",
     "text": [
      "{'bag_of_words': ['ironhack', 'is', 'cool', 'i', 'love', 'am', 'a', 'student', 'at'], 'term_freq': [[1, 1, 1, 0, 0, 0, 0, 0, 0], [1, 0, 0, 1, 1, 0, 0, 0, 0], [1, 0, 0, 1, 0, 1, 1, 1, 1]]}\n"
     ]
    }
   ],
   "source": [
    "# Define doc paths array\n",
    "docs = ['doc1.txt', 'doc2.txt', 'doc3.txt']\n",
    "\n",
    "# Obtain BoW from your function\n",
    "bow = get_bow_from_docs(docs)\n",
    "\n",
    "# Print BoW\n",
    "print(bow)"
   ]
  },
  {
   "cell_type": "markdown",
   "metadata": {},
   "source": [
    "If your attempt above is successful, nice work done!\n",
    "\n",
    "Now test your function again with the stop words. In the previous lab we defined the stop words in a large array. In this lab, we'll import the stop words from Scikit-Learn."
   ]
  },
  {
   "cell_type": "code",
   "execution_count": 11,
   "metadata": {},
   "outputs": [
    {
     "name": "stdout",
     "output_type": "stream",
     "text": [
      "frozenset({'re', 'one', 'he', 'when', 'had', 'bill', 'three', 'ten', 'latterly', 'on', 'without', 'of', 'something', 'behind', 'namely', 'meanwhile', 'forty', 'more', 'how', 'side', 'my', 'therein', 'nine', 'everywhere', 'eight', 'less', 'co', 'or', 'over', 'hence', 'nobody', 'it', 'until', 'they', 'thence', 'beside', 'will', 'therefore', 'his', 'back', 'but', 'we', 'with', 'hasnt', 'detail', 'cannot', 'between', 'afterwards', 'due', 'top', 'mostly', 'from', 'the', 'toward', 'sometime', 'everything', 'go', 'our', 'eg', 'two', 'though', 'take', 'been', 'herself', 'whenever', 'further', 'become', 'else', 'anyhow', 'inc', 'below', 'against', 'hereby', 'are', 'neither', 'yourselves', 'amoungst', 'whereby', 'name', 'both', 'either', 'than', 'former', 'nowhere', 'into', 'ltd', 'moreover', 'ie', 'alone', 'every', 'show', 'nevertheless', 'always', 'still', 'ourselves', 'find', 'all', 'before', 'move', 'empty', 'fire', 'formerly', 'seem', 'full', 'anyone', 'through', 'third', 'whom', 'five', 'where', 'besides', 'each', 'sincere', 'whither', 'she', 'thin', 'after', 'me', 'himself', 'together', 'yet', 'your', 'hereupon', 'amongst', 'too', 'throughout', 'which', 'once', 'indeed', 'someone', 'why', 'eleven', 'out', 'their', 'becomes', 'that', 'around', 'much', 'nothing', 'many', 'noone', 'what', 'de', 'her', 'under', 'thick', 'thru', 'across', 'who', 'first', 'most', 'per', 'so', 'would', 'un', 'fill', 'whence', 'during', 'done', 'few', 'thereupon', 'keep', 'then', 'if', 'for', 'no', 'nor', 'themselves', 'however', 'because', 'hers', 'might', 'cant', 'mill', 'down', 'them', 'an', 'well', 'etc', 'almost', 'even', 'since', 'whether', 'very', 'can', 'please', 'often', 'whereafter', 'herein', 'cry', 'fifty', 'mine', 'otherwise', 'other', 'made', 'am', 'do', 'has', 'several', 'myself', 'twelve', 'hundred', 'you', 'describe', 'here', 'and', 'upon', 'somewhere', 'to', 'seemed', 'whose', 'could', 'bottom', 'be', 'some', 'twenty', 'at', 'this', 'us', 'beforehand', 'give', 'already', 'interest', 'within', 'becoming', 'should', 'may', 'whereupon', 'another', 'only', 'thereby', 'thereafter', 'own', 'him', 'somehow', 'sixty', 'although', 'above', 'any', 'system', 'have', 'i', 'never', 'last', 'among', 'seeming', 'wherever', 'thus', 'six', 'must', 'anyway', 'there', 'anything', 'yours', 'also', 'whole', 'con', 'whatever', 'couldnt', 'a', 'not', 'fifteen', 'via', 'beyond', 'hereafter', 'became', 'as', 'whereas', 'while', 'elsewhere', 'others', 'enough', 'next', 'wherein', 'found', 'four', 'these', 'serious', 'was', 'off', 'yourself', 'in', 'ours', 'part', 'ever', 'latter', 'except', 'get', 'call', 'now', 'everyone', 'rather', 'perhaps', 'put', 'front', 'is', 'again', 'being', 'were', 'sometimes', 'those', 'up', 'same', 'its', 'towards', 'see', 'amount', 'itself', 'along', 'least', 'seems', 'none', 'whoever', 'about', 'such', 'by', 'anywhere', 'onto'})\n"
     ]
    }
   ],
   "source": [
    "from sklearn.feature_extraction import stop_words\n",
    "print(stop_words.ENGLISH_STOP_WORDS)"
   ]
  },
  {
   "cell_type": "markdown",
   "metadata": {},
   "source": [
    "You should have seen a large list of words that looks like:\n",
    "\n",
    "```frozenset({'across', 'mine', 'cannot', ...})```\n",
    "\n",
    "`frozenset` is a type of Python object that is immutable. In this lab you can use it just like an array without conversion."
   ]
  },
  {
   "cell_type": "markdown",
   "metadata": {},
   "source": [
    "Next, test your function with supplying `stop_words.ENGLISH_STOP_WORDS` as the second parameter."
   ]
  },
  {
   "cell_type": "code",
   "execution_count": 20,
   "metadata": {},
   "outputs": [
    {
     "name": "stdout",
     "output_type": "stream",
     "text": [
      "{'bag_of_words': ['ironhack', 'cool', 'love', 'student'], 'term_freq': [[1, 1, 0, 0], [1, 0, 1, 0], [1, 0, 0, 1]]}\n"
     ]
    }
   ],
   "source": [
    "bow = get_bow_from_docs(docs, stop_words.ENGLISH_STOP_WORDS)\n",
    "\n",
    "print(bow)"
   ]
  },
  {
   "cell_type": "markdown",
   "metadata": {},
   "source": [
    "You should have seen:\n",
    "\n",
    "```{'bag_of_words': ['ironhack', 'cool', 'love', 'student'], 'term_freq': [[1, 1, 0, 0], [1, 0, 1, 0], [1, 0, 0, 1]]}```"
   ]
  },
  {
   "cell_type": "code",
   "execution_count": null,
   "metadata": {},
   "outputs": [],
   "source": []
  }
 ],
 "metadata": {
  "kernelspec": {
   "display_name": "Python 3",
   "language": "python",
   "name": "python3"
  },
  "language_info": {
   "codemirror_mode": {
    "name": "ipython",
    "version": 3
   },
   "file_extension": ".py",
   "mimetype": "text/x-python",
   "name": "python",
   "nbconvert_exporter": "python",
   "pygments_lexer": "ipython3",
   "version": "3.7.0"
  }
 },
 "nbformat": 4,
 "nbformat_minor": 2
}
